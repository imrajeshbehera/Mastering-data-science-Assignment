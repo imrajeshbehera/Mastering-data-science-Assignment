{
 "cells": [
  {
   "cell_type": "markdown",
   "id": "25ec22d2-4f35-4228-b916-9256e057f7c6",
   "metadata": {},
   "source": [
    "Q1. Create a Pandas Series that contains the following data: 4, 8, 15, 16, 23, and 42. Then, print the series."
   ]
  },
  {
   "cell_type": "code",
   "execution_count": 1,
   "id": "28dfe885-e41b-4480-b472-973d55ce71bf",
   "metadata": {},
   "outputs": [
    {
     "name": "stdout",
     "output_type": "stream",
     "text": [
      "0     4\n",
      "1     8\n",
      "2    15\n",
      "3    16\n",
      "4    23\n",
      "5    42\n",
      "dtype: int64\n"
     ]
    }
   ],
   "source": [
    "import pandas as pd\n",
    "\n",
    "# Create a Pandas Series with the specified data\n",
    "data = [4, 8, 15, 16, 23, 42]\n",
    "series = pd.Series(data)\n",
    "\n",
    "# Print the series\n",
    "print(series)\n"
   ]
  },
  {
   "cell_type": "markdown",
   "id": "2e88480a-674e-4b39-8d01-45138608f917",
   "metadata": {},
   "source": [
    "Q2. Create a variable of list type containing 10 elements in it, and apply pandas.Series function on the variable print it."
   ]
  },
  {
   "cell_type": "code",
   "execution_count": 2,
   "id": "c4a77a55-e02b-4aab-8df6-06345977efc0",
   "metadata": {},
   "outputs": [
    {
     "name": "stdout",
     "output_type": "stream",
     "text": [
      "0     1\n",
      "1     2\n",
      "2     3\n",
      "3     4\n",
      "4     5\n",
      "5     6\n",
      "6     7\n",
      "7     8\n",
      "8     9\n",
      "9    10\n",
      "dtype: int64\n"
     ]
    }
   ],
   "source": [
    "import pandas as pd\n",
    "\n",
    "# Create a list with 10 elements\n",
    "my_list = [1, 2, 3, 4, 5, 6, 7, 8, 9, 10]\n",
    "\n",
    "# Convert the list to a Pandas Series\n",
    "series = pd.Series(my_list)\n",
    "\n",
    "# Print the series\n",
    "print(series)\n"
   ]
  },
  {
   "cell_type": "code",
   "execution_count": 4,
   "id": "b4974f10-0793-4533-97f0-8cffded73c25",
   "metadata": {},
   "outputs": [
    {
     "name": "stdout",
     "output_type": "stream",
     "text": [
      "     Name  Age  Gender\n",
      "0   Alice   25  Female\n",
      "1     Bob   30    Male\n",
      "2  Claire   27  Female\n"
     ]
    }
   ],
   "source": [
    "#q3 - Q3. Create a Pandas DataFrame that contains the following data:\n",
    "\n",
    "\"\"\"Name\n",
    "Alice\n",
    "Bob\n",
    "Claire\n",
    "\n",
    "Age\n",
    "25\n",
    "30\n",
    "27\n",
    "\n",
    "Gender\n",
    "Female\n",
    "Male\n",
    "Female\n",
    "\n",
    "Then, print the DataFrame.\"\"\"\n",
    "\n",
    "import pandas as pd\n",
    "\n",
    "# Create a dictionary with the data\n",
    "data = {\n",
    "    'Name': ['Alice', 'Bob', 'Claire'],\n",
    "    'Age': [25, 30, 27],\n",
    "    'Gender': ['Female', 'Male', 'Female']\n",
    "}\n",
    "\n",
    "# Convert the dictionary to a Pandas DataFrame\n",
    "df = pd.DataFrame(data)\n",
    "\n",
    "# Print the DataFrame\n",
    "print(df)\n"
   ]
  },
  {
   "cell_type": "markdown",
   "id": "87550747-c41c-4a6f-bf48-a204a8f4ad5f",
   "metadata": {},
   "source": [
    "Q4. What is ‘DataFrame’ in pandas and how is it different from pandas.series? Explain with an example."
   ]
  },
  {
   "cell_type": "code",
   "execution_count": 5,
   "id": "50c07fa1-c52c-48a6-bad9-c2f7faf2ada9",
   "metadata": {},
   "outputs": [
    {
     "name": "stdout",
     "output_type": "stream",
     "text": [
      "Pandas Series:\n",
      "Alice     25\n",
      "Bob       30\n",
      "Claire    27\n",
      "dtype: int64\n",
      "\n",
      "\n",
      "Pandas DataFrame:\n",
      "     Name  Age  Gender\n",
      "0   Alice   25  Female\n",
      "1     Bob   30    Male\n",
      "2  Claire   27  Female\n"
     ]
    }
   ],
   "source": [
    "\"\"\"\n",
    "A DataFrame is a two-dimensional, size-mutable, and potentially heterogeneous tabular data structure. It can be thought of as a table or a spreadsheet, where data is organized in rows and columns. Each column can hold different types of data (e.g., integers, floats, strings), and a DataFrame can have an index that allows for easy data manipulation.\n",
    "\n",
    "Key Differences between DataFrame and Series:\n",
    "Dimensionality: \n",
    "Series: One-dimensional. It can be seen as a single column of data.\n",
    "DataFrame: Two-dimensional. It consists of multiple columns.\n",
    "Structure:\n",
    "Series: A single data column with an index.\n",
    "DataFrame: Multiple data columns, each of which can be a Series itself.\n",
    "\n",
    "Use Cases:\n",
    "Series: Best used for single-column data or when you need to perform operations on a single list of data.\n",
    "DataFrame: Best used for multi-dimensional datasets, where you want to analyze relationships between different attributes.\n",
    "Example:\n",
    "\"\"\"\n",
    "\n",
    "import pandas as pd\n",
    "\n",
    "# Creating a Pandas Series\n",
    "data_series = pd.Series([25, 30, 27], index=['Alice', 'Bob', 'Claire'])\n",
    "print(\"Pandas Series:\")\n",
    "print(data_series)\n",
    "print(\"\\n\")\n",
    "\n",
    "# Creating a Pandas DataFrame\n",
    "data_dict = {\n",
    "    'Name': ['Alice', 'Bob', 'Claire'],\n",
    "    'Age': [25, 30, 27],\n",
    "    'Gender': ['Female', 'Male', 'Female']\n",
    "}\n",
    "data_frame = pd.DataFrame(data_dict)\n",
    "print(\"Pandas DataFrame:\")\n",
    "print(data_frame)\n"
   ]
  },
  {
   "cell_type": "markdown",
   "id": "ae0a1c81-6287-427e-9e68-590d0dfc0187",
   "metadata": {},
   "source": [
    "Q5. What are some common functions you can use to manipulate data in a Pandas DataFrame? Can\n",
    "you give an example of when you might use one of these functions?"
   ]
  },
  {
   "cell_type": "code",
   "execution_count": 6,
   "id": "f5e31868-2587-49d2-99e0-2a9450007eee",
   "metadata": {},
   "outputs": [
    {
     "name": "stdout",
     "output_type": "stream",
     "text": [
      "First 3 entries:\n",
      "     Name  Age  Gender\n",
      "0   Alice   25  Female\n",
      "1     Bob   30    Male\n",
      "2  Claire   27  Female\n",
      "\n",
      "DataFrame Info:\n",
      "<class 'pandas.core.frame.DataFrame'>\n",
      "RangeIndex: 5 entries, 0 to 4\n",
      "Data columns (total 3 columns):\n",
      " #   Column  Non-Null Count  Dtype \n",
      "---  ------  --------------  ----- \n",
      " 0   Name    5 non-null      object\n",
      " 1   Age     5 non-null      int64 \n",
      " 2   Gender  5 non-null      object\n",
      "dtypes: int64(1), object(2)\n",
      "memory usage: 252.0+ bytes\n",
      "None\n",
      "\n",
      "Average Age by Gender:\n",
      "Gender\n",
      "Female    27.0\n",
      "Male      26.0\n",
      "Name: Age, dtype: float64\n",
      "\n",
      "DataFrame Sorted by Age:\n",
      "     Name  Age  Gender\n",
      "1     Bob   30    Male\n",
      "4     Eva   29  Female\n",
      "2  Claire   27  Female\n",
      "0   Alice   25  Female\n",
      "3   David   22    Male\n"
     ]
    }
   ],
   "source": [
    "\"\"\"\n",
    "Pandas offers a wide range of functions to manipulate data in a DataFrame. Here are some common ones along with examples of when you might use them:\n",
    "\n",
    "Common Functions\n",
    "head(n): Returns the first n rows of the DataFrame.\n",
    "Use Case: Quickly preview the top rows of a DataFrame.\n",
    "df.head(3)  # Shows the first 3 rows\n",
    "\n",
    "tail(n): Returns the last n rows of the DataFrame.\n",
    "Use Case: Check the last few entries after sorting or filtering.\n",
    "df.tail(2)  # Shows the last 2 rows\n",
    "\n",
    "info(): Provides a summary of the DataFrame, including the number of non-null entries and data types.\n",
    "Use Case: Understand the structure and data types of the DataFrame.\n",
    "df.info()  # Shows information about the DataFrame\n",
    "\n",
    "describe(): Generates descriptive statistics for numerical columns.\n",
    "Use Case: Quickly analyze statistical properties like mean, median, and standard deviation.\n",
    "df.describe()  # Provides summary statistics\n",
    "\n",
    "drop(labels, axis): Removes specified rows or columns.\n",
    "Use Case: Remove unnecessary columns from a DataFrame.\n",
    "df.drop('Gender', axis=1)  # Drops the 'Gender' column\n",
    "\n",
    "filter(): Allows filtering data based on conditions.\n",
    "Use Case: Extract specific rows that meet a condition.\n",
    "df[df['Age'] > 25]  # Shows rows where Age is greater than 25\n",
    "\n",
    "groupby(): Groups the DataFrame using a specified column and allows aggregation.\n",
    "Use Case: Calculate the average age by gender.\n",
    "df.groupby('Gender')['Age'].mean()  # Calculates average age by gender\n",
    "\n",
    "sort_values(by): Sorts the DataFrame based on one or more columns.\n",
    "Use Case: Sort data to identify the oldest person.\n",
    "df.sort_values(by='Age', ascending=False)  # Sorts by Age in descending order\n",
    "\n",
    "Example \n",
    "\"\"\"\n",
    "\n",
    "import pandas as pd\n",
    "\n",
    "# Sample DataFrame\n",
    "data = {\n",
    "    'Name': ['Alice', 'Bob', 'Claire', 'David', 'Eva'],\n",
    "    'Age': [25, 30, 27, 22, 29],\n",
    "    'Gender': ['Female', 'Male', 'Female', 'Male', 'Female']\n",
    "}\n",
    "df = pd.DataFrame(data)\n",
    "\n",
    "# 1. Preview the DataFrame\n",
    "print(\"First 3 entries:\")\n",
    "print(df.head(3))\n",
    "\n",
    "# 2. Get a summary of the DataFrame\n",
    "print(\"\\nDataFrame Info:\")\n",
    "print(df.info())\n",
    "\n",
    "# 3. Calculate average age by gender\n",
    "average_age = df.groupby('Gender')['Age'].mean()\n",
    "print(\"\\nAverage Age by Gender:\")\n",
    "print(average_age)\n",
    "\n",
    "# 4. Sort by Age\n",
    "sorted_df = df.sort_values(by='Age', ascending=False)\n",
    "print(\"\\nDataFrame Sorted by Age:\")\n",
    "print(sorted_df)\n"
   ]
  },
  {
   "cell_type": "markdown",
   "id": "4f6c1021-c83d-41e1-90a3-06d5dcb5ed58",
   "metadata": {},
   "source": [
    "Q6. Which of the following is mutable in nature Series, DataFrame, Panel?"
   ]
  },
  {
   "cell_type": "markdown",
   "id": "856b4bfe-2e2f-49bd-a889-33a525ba0a1d",
   "metadata": {},
   "source": [
    "In Pandas, both Series and DataFrame are mutable in nature, meaning you can modify their contents after they are created. This includes operations such as adding, removing, or updating elements.\n",
    "\n",
    "Series: You can change values, add new entries, or remove existing ones.\n",
    "DataFrame: You can modify values, add or drop columns/rows, and change data types.\n",
    "Panel, however, is a three-dimensional data structure that is considered deprecated in recent versions of Pandas. It is not commonly used, and you are encouraged to use multi-dimensional arrays (e.g., with xarray) or more complex DataFrames instead.\n"
   ]
  },
  {
   "cell_type": "markdown",
   "id": "4a36c224-b789-4eec-b50c-e16dfc70ad87",
   "metadata": {},
   "source": [
    "Q7. Create a DataFrame using multiple Series. Explain with an example."
   ]
  },
  {
   "cell_type": "code",
   "execution_count": 8,
   "id": "2d828387-86cb-43bc-a3d4-f195d2adb715",
   "metadata": {},
   "outputs": [
    {
     "name": "stdout",
     "output_type": "stream",
     "text": [
      "     Name  Age  Gender\n",
      "0   Alice   25  Female\n",
      "1     Bob   30    Male\n",
      "2  Claire   27  Female\n"
     ]
    }
   ],
   "source": [
    "import pandas as pd\n",
    "\n",
    "# Create individual Series\n",
    "name_series = pd.Series(['Alice', 'Bob', 'Claire'])\n",
    "age_series = pd.Series([25, 30, 27])\n",
    "gender_series = pd.Series(['Female', 'Male', 'Female'])\n",
    "\n",
    "# Combine Series into a DataFrame using a dictionary\n",
    "data = {\n",
    "    'Name': name_series,\n",
    "    'Age': age_series,\n",
    "    'Gender': gender_series\n",
    "}\n",
    "\n",
    "df = pd.DataFrame(data)\n",
    "\n",
    "# Print the DataFrame\n",
    "print(df)\n"
   ]
  },
  {
   "cell_type": "code",
   "execution_count": null,
   "id": "b4dc12ea-9259-4c56-968e-f253937c4887",
   "metadata": {},
   "outputs": [],
   "source": []
  }
 ],
 "metadata": {
  "kernelspec": {
   "display_name": "Python 3 (ipykernel)",
   "language": "python",
   "name": "python3"
  },
  "language_info": {
   "codemirror_mode": {
    "name": "ipython",
    "version": 3
   },
   "file_extension": ".py",
   "mimetype": "text/x-python",
   "name": "python",
   "nbconvert_exporter": "python",
   "pygments_lexer": "ipython3",
   "version": "3.11.7"
  }
 },
 "nbformat": 4,
 "nbformat_minor": 5
}
